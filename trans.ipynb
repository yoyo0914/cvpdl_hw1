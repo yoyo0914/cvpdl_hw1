{
 "cells": [
  {
   "cell_type": "code",
   "execution_count": 10,
   "metadata": {},
   "outputs": [],
   "source": [
    "import json\n",
    "\n",
    "df = r\"homework_dataset\\valid\\valid.json\"\n",
    "\n",
    "with open(df) as f:\n",
    "    tmp = json.load(f)\n",
    "\n",
    "for index in range(len(tmp['annotations'])):\n",
    "    tmp[\"annotations\"][index][\"category_id\"] = tmp[\"annotations\"][index][\"category_id\"] -1\n",
    "\n",
    "for index in range(len(tmp['categories'])):\n",
    "    tmp[\"categories\"][index][\"id\"] = tmp[\"categories\"][index][\"id\"] -1\n",
    "\n",
    "df = df[:-5] + \"0_index.json\"\n",
    "with open(df, 'w') as f:\n",
    "    json.dump(tmp, f)"
   ]
  },
  {
   "cell_type": "code",
   "execution_count": null,
   "metadata": {},
   "outputs": [],
   "source": []
  }
 ],
 "metadata": {
  "kernelspec": {
   "display_name": "torch2.4.0",
   "language": "python",
   "name": "python3"
  },
  "language_info": {
   "codemirror_mode": {
    "name": "ipython",
    "version": 3
   },
   "file_extension": ".py",
   "mimetype": "text/x-python",
   "name": "python",
   "nbconvert_exporter": "python",
   "pygments_lexer": "ipython3",
   "version": "3.12.4"
  }
 },
 "nbformat": 4,
 "nbformat_minor": 2
}
